{
  "cells": [
    {
      "cell_type": "code",
      "execution_count": 1,
      "metadata": {
        "id": "gDd_QpwdU4oK"
      },
      "outputs": [],
      "source": [
        "import numpy as np\n",
        "import pandas as pd\n",
        "import matplotlib.pyplot as plt\n",
        "import lightgbm as lgbm\n",
        "from sklearn.model_selection import train_test_split\n",
        "from sklearn.metrics import log_loss\n",
        "from sklearn.datasets import fetch_covtype \n",
        "from sklearn.model_selection import KFold"
      ]
    },
    {
      "cell_type": "markdown",
      "source": [
        "データのダウンロード：データはsklearnからダウンロード。ラベルは1-7でラベル付けされている。扱いづらそうなのでy=y-1でラベルを0から6にしておく（確かxgboostはラベルが0始まりじゃないと対応してなかった気がしなくもない）"
      ],
      "metadata": {
        "id": "sUZDJ5JWsKlh"
      }
    },
    {
      "cell_type": "code",
      "execution_count": 2,
      "metadata": {
        "id": "X-rLiyDhYZvd"
      },
      "outputs": [],
      "source": [
        "X,y = fetch_covtype(return_X_y=True,as_frame=True)\n",
        "y=y-1"
      ]
    },
    {
      "cell_type": "markdown",
      "source": [
        "分割はKFoldで行う。train_test_splitでもできると思うが既存のものを使うこととする。（後で考えたけど重複してサンプリングしてしまうことを考えるとtrain_test_splitは適さない）"
      ],
      "metadata": {
        "id": "6iZkAyJmseWH"
      }
    },
    {
      "cell_type": "code",
      "execution_count": 3,
      "metadata": {
        "id": "Dji2V5DvY3oX"
      },
      "outputs": [],
      "source": [
        "kf = KFold(n_splits=5,shuffle=True,random_state=None)"
      ]
    },
    {
      "cell_type": "markdown",
      "source": [
        "利用するモデルはランダムフォレスト、xgboost、ロジスティック回帰。ランダムフォレストとxgboostはバギング<>ブースティングで特徴量の相関関係について概観することができる。二つのモデルで高い精度が出て、ロジスティック回帰でも高い精度が出る場合ラベルと特徴量には明らかな線形関係がある→corrを使うとものすごい相関係数が出そう。\n",
        "いずれにしてもデータセットについて見やすくなると思った。"
      ],
      "metadata": {
        "id": "poVqVYaTswy6"
      }
    },
    {
      "cell_type": "code",
      "source": [
        "from sklearn.ensemble import RandomForestClassifier\n",
        "import xgboost as xgb\n",
        "from sklearn.linear_model import LogisticRegression\n",
        "from sklearn.metrics import accuracy_score"
      ],
      "metadata": {
        "id": "gTjkVv-8qLep"
      },
      "execution_count": 4,
      "outputs": []
    },
    {
      "cell_type": "code",
      "source": [
        "model = RandomForestClassifier()"
      ],
      "metadata": {
        "id": "PiYp99hPrLwq"
      },
      "execution_count": 11,
      "outputs": []
    },
    {
      "cell_type": "code",
      "execution_count": 12,
      "metadata": {
        "colab": {
          "base_uri": "https://localhost:8080/"
        },
        "id": "-iT6BOrealqd",
        "outputId": "128ca0e4-4ff9-4bac-d6ab-fa8589cbdec1"
      },
      "outputs": [
        {
          "output_type": "stream",
          "name": "stdout",
          "text": [
            "acc is 0.9544245845632212\n",
            "acc is 0.954786021014948\n",
            "acc is 0.9556117794874442\n",
            "acc is 0.9544500094662742\n",
            "acc is 0.9549147174747422\n",
            "mean score is 0.9548374224013261\n"
          ]
        }
      ],
      "source": [
        "score_sum_Random=0\n",
        "for train_index,eval_index in kf.split(X):\n",
        "  train_x = X.iloc[train_index]\n",
        "  train_y = y.iloc[train_index]\n",
        "  valid_x = X.iloc[eval_index]\n",
        "  valid_y = y.iloc[eval_index]\n",
        "  model.fit(train_x,train_y)\n",
        "  pred = model.predict(valid_x)\n",
        "  score = accuracy_score(pred,valid_y)\n",
        "  print(\"acc is {}\".format(score))\n",
        "  score_sum_Random += score\n",
        "print(\"mean score is {}\".format(score_sum_Random/5))\n",
        "importance_random = model.feature_importances_"
      ]
    },
    {
      "cell_type": "markdown",
      "source": [
        "特徴量の重要度をグラフとして見てみる"
      ],
      "metadata": {
        "id": "ZkHDbCTutfJk"
      }
    },
    {
      "cell_type": "code",
      "source": [
        "fig = plt.figure(figsize=(15,6))\n",
        "\n",
        "ax = fig.add_subplot(111)\n",
        "\n",
        "ax.bar(X.columns[:5],importance_random[:5])\n",
        "\n",
        "ax.set_xlabel('feature')\n",
        "ax.set_ylabel('importance')\n",
        "\n",
        "plt.show()"
      ],
      "metadata": {
        "id": "7-G2lDfcpyM4"
      },
      "execution_count": null,
      "outputs": []
    },
    {
      "cell_type": "code",
      "execution_count": 5,
      "metadata": {
        "id": "d_VJ5VtgdM0o"
      },
      "outputs": [],
      "source": [
        "params = {\n",
        "    'objective':'multi:softmax',\n",
        "    'num_class':7,\n",
        "    'eval_metric':'mlogloss'\n",
        "}"
      ]
    },
    {
      "cell_type": "code",
      "execution_count": 6,
      "metadata": {
        "id": "_hysnCPZdZuY",
        "colab": {
          "base_uri": "https://localhost:8080/"
        },
        "outputId": "09b8d42b-4208-4f23-dbb3-959790a78342"
      },
      "outputs": [
        {
          "metadata": {
            "tags": null
          },
          "name": "stderr",
          "output_type": "stream",
          "text": [
            "/usr/local/lib/python3.9/dist-packages/xgboost/core.py:617: FutureWarning: Pass `objective` as keyword args.\n",
            "  warnings.warn(msg, FutureWarning)\n"
          ]
        },
        {
          "metadata": {
            "tags": null
          },
          "name": "stdout",
          "output_type": "stream",
          "text": [
            "acc is 0.8718535666032718\n"
          ]
        },
        {
          "metadata": {
            "tags": null
          },
          "name": "stderr",
          "output_type": "stream",
          "text": [
            "/usr/local/lib/python3.9/dist-packages/xgboost/core.py:617: FutureWarning: Pass `objective` as keyword args.\n",
            "  warnings.warn(msg, FutureWarning)\n"
          ]
        },
        {
          "metadata": {
            "tags": null
          },
          "name": "stdout",
          "output_type": "stream",
          "text": [
            "acc is 0.868867413061625\n"
          ]
        },
        {
          "metadata": {
            "tags": null
          },
          "name": "stderr",
          "output_type": "stream",
          "text": [
            "/usr/local/lib/python3.9/dist-packages/xgboost/core.py:617: FutureWarning: Pass `objective` as keyword args.\n",
            "  warnings.warn(msg, FutureWarning)\n"
          ]
        },
        {
          "metadata": {
            "tags": null
          },
          "name": "stdout",
          "output_type": "stream",
          "text": [
            "acc is 0.872644188568183\n"
          ]
        },
        {
          "metadata": {
            "tags": null
          },
          "name": "stderr",
          "output_type": "stream",
          "text": [
            "/usr/local/lib/python3.9/dist-packages/xgboost/core.py:617: FutureWarning: Pass `objective` as keyword args.\n",
            "  warnings.warn(msg, FutureWarning)\n"
          ]
        },
        {
          "metadata": {
            "tags": null
          },
          "name": "stdout",
          "output_type": "stream",
          "text": [
            "acc is 0.867833600110153\n"
          ]
        },
        {
          "metadata": {
            "tags": null
          },
          "name": "stderr",
          "output_type": "stream",
          "text": [
            "/usr/local/lib/python3.9/dist-packages/xgboost/core.py:617: FutureWarning: Pass `objective` as keyword args.\n",
            "  warnings.warn(msg, FutureWarning)\n"
          ]
        },
        {
          "output_type": "stream",
          "name": "stdout",
          "text": [
            "acc is 0.8693395982857438\n",
            "mean score is 0.8701076733257953\n"
          ]
        }
      ],
      "source": [
        "score_sum_xgb=0\n",
        "for train_index,eval_index in kf.split(X):\n",
        "  train_x = X.iloc[train_index]\n",
        "  train_y = y.iloc[train_index]\n",
        "  valid_x = X.iloc[eval_index]\n",
        "  valid_y = y.iloc[eval_index]\n",
        "  xgb_train = xgb.DMatrix(train_x,label=train_y)\n",
        "  xgb_test = xgb.DMatrix(valid_x,label=valid_y)\n",
        "  model = xgb.XGBClassifier(params)\n",
        "  model.fit(train_x,train_y)\n",
        "  pred = model.predict_proba(valid_x)\n",
        "  score = accuracy_score(np.argmax(pred,axis=1),valid_y)\n",
        "  print(\"acc is {}\".format(score))\n",
        "  score_sum_xgb += score\n",
        "print(\"mean score is {}\".format(score_sum_xgb/5))\n",
        "importance_xgb = model.feature_importances_"
      ]
    },
    {
      "cell_type": "markdown",
      "source": [
        "同様に特徴量の重要度を見てみる"
      ],
      "metadata": {
        "id": "ww7lS39WtpI7"
      }
    },
    {
      "cell_type": "code",
      "source": [
        "fig = plt.figure(figsize=(15,6))\n",
        "\n",
        "ax = fig.add_subplot(111)\n",
        "\n",
        "ax.bar(X.columns[:5],importance_xgb[:5])\n",
        "\n",
        "ax.set_xlabel('feature')\n",
        "ax.set_ylabel('importance')\n",
        "\n",
        "plt.show()"
      ],
      "metadata": {
        "colab": {
          "base_uri": "https://localhost:8080/",
          "height": 283
        },
        "id": "n98MsGn3RcDA",
        "outputId": "27d545c6-1cff-474a-bcc5-072ee8cc9ed4"
      },
      "execution_count": 10,
      "outputs": [
        {
          "output_type": "display_data",
          "data": {
            "text/plain": [
              "<Figure size 1500x600 with 1 Axes>"
            ],
            "image/png": "[encoded data removed]"
          },
          "metadata": {}
        }
      ]
    },
    {
      "cell_type": "code",
      "execution_count": 17,
      "metadata": {
        "id": "pncb6aODhANh"
      },
      "outputs": [],
      "source": [
        "model = LogisticRegression()"
      ]
    },
    {
      "cell_type": "code",
      "source": [
        "score_sum_Logic=0\n",
        "for train_index,eval_index in kf.split(X):\n",
        "  train_x = X.iloc[train_index]\n",
        "  train_y = y.iloc[train_index]\n",
        "  valid_x = X.iloc[eval_index]\n",
        "  valid_y = y.iloc[eval_index]\n",
        "  model.fit(train_x,train_y)\n",
        "  pred = model.predict(valid_x)\n",
        "  score = accuracy_score(pred,valid_y)\n",
        "  print(\"acc is {}\".format(score))\n",
        "  score_sum_Logic += score\n",
        "print(\"mean score is {}\".format(score_sum_Logic/5))"
      ],
      "metadata": {
        "id": "Z0-w7ZOIt7NS"
      },
      "execution_count": null,
      "outputs": []
    },
    {
      "cell_type": "code",
      "source": [
        "score_list = np.array([score_sum_Random/5,score_sum_xgb/5,score_sum_Logic/5])\n",
        "import matplotlib.pyplot as plt\n",
        "label_list = ['RandomForest','xgboost','Logisticregression']\n",
        "fig = plt.figure(figsize=(15,6))\n",
        "\n",
        "ax = fig.add_subplot(111)\n",
        "\n",
        "ax.bar(label_list,score_list)\n",
        "\n",
        "ax.set_xlabel('model')\n",
        "ax.set_ylabel('accuracy_score')\n",
        "\n",
        "plt.show()"
      ],
      "metadata": {
        "id": "XfsPy2MAwNeF"
      },
      "execution_count": null,
      "outputs": []
    },
    {
      "cell_type": "markdown",
      "source": [
        "↑やはりロジスティック回帰ではあまり高い精度が出る訳ではない→ラベルとものすごい相関のある特徴量はないと考えられる。"
      ],
      "metadata": {
        "id": "G-mVPfsKt0Od"
      }
    },
    {
      "cell_type": "markdown",
      "source": [
        "データセットの概要を見つめる"
      ],
      "metadata": {
        "id": "5xKV1-FRYd3J"
      }
    },
    {
      "cell_type": "code",
      "source": [
        "import seaborn as sns\n",
        "corr = X[[\"Elevation\",\"Aspect\",\"Slope\",\"Horizontal_Distance_To_Hydrology\",\"Vertical_Distance_To_Hydrology\",\"Horizontal_Distance_To_Roadways\",\"Hillshade_9am\",\"Hillshade_Noon\",\"Hillshade_3pm\",\"Horizontal_Distance_To_Fire_Points\"]].corr()\n",
        "plt.subplots(figsize=(12,10))\n",
        "sns.heatmap(corr)\n",
        "plt.xticks(size=13)\n",
        "plt.yticks(size=13)\n",
        "plt.show()"
      ],
      "metadata": {
        "id": "VdH7LTlMYdEl"
      },
      "execution_count": null,
      "outputs": []
    },
    {
      "cell_type": "code",
      "source": [
        "df = pd.concat([X,y],axis = 1)\n",
        "df"
      ],
      "metadata": {
        "id": "gwVAmnZ3creA"
      },
      "execution_count": null,
      "outputs": []
    },
    {
      "cell_type": "code",
      "source": [
        "df = pd.concat([X,y],axis = 1)\n",
        "list_data_corr = [['Horizontal_Distance_To_Hydrology','Vertical_Distance_To_Hydrology'],\n",
        "                  ['Elevation','Horizontal_Distance_To_Roadways'],\n",
        "                  ['Aspect','Hillshade_3pm'],\n",
        "                  ['Hillshade_3pm','Hillshade_Noon']]\n",
        "\n",
        "for i,j in list_data_corr:\n",
        "    plt.subplots(figsize=(10,8))\n",
        "    sns.scatterplot(data=df, x=i, y=j, hue=\"Cover_Type\", legend='full', palette='rainbow_r',alpha = 0.4)\n",
        "    plt.xticks(size=15)\n",
        "    plt.yticks(size=15)\n",
        "    plt.xlabel(i, size=16)\n",
        "    plt.ylabel(j, size=16)\n",
        "    \n",
        "    plt.show()"
      ],
      "metadata": {
        "id": "1qkKpPcDbDgU"
      },
      "execution_count": null,
      "outputs": []
    },
    {
      "cell_type": "code",
      "source": [
        "X[\"New_feature\"] = ((50<X[\"Hillshade_3pm\"])&(X[\"Hillshade_3pm\"]<250) & (150<X[\"Hillshade_Noon\"])&(X[\"Hillshade_Noon\"]<250)).astype(int)"
      ],
      "metadata": {
        "id": "IphIOuVJ7wnV"
      },
      "execution_count": 9,
      "outputs": []
    },
    {
      "cell_type": "code",
      "source": [
        "X[\"New_feature\"].head()"
      ],
      "metadata": {
        "id": "WO3icRN9V4ef"
      },
      "execution_count": null,
      "outputs": []
    },
    {
      "cell_type": "markdown",
      "source": [
        "追加した特徴量での学習、精度の確認"
      ],
      "metadata": {
        "id": "9A8eSYVpeDAS"
      }
    },
    {
      "cell_type": "code",
      "source": [
        "score_sum_xgb=0\n",
        "for train_index,eval_index in kf.split(X):\n",
        "  train_x = X.iloc[train_index]\n",
        "  train_y = y.iloc[train_index]\n",
        "  valid_x = X.iloc[eval_index]\n",
        "  valid_y = y.iloc[eval_index]\n",
        "  xgb_train = xgb.DMatrix(train_x,label=train_y)\n",
        "  xgb_test = xgb.DMatrix(valid_x,label=valid_y)\n",
        "  model = xgb.train(params,xgb_train)\n",
        "  pred = model.predict(xgb_test)\n",
        "  score = accuracy_score(pred,valid_y)\n",
        "  print(\"acc is {}\".format(score))\n",
        "  score_sum_xgb += score\n",
        "print(\"mean score is {}\".format(score_sum_xgb/5))"
      ],
      "metadata": {
        "id": "g3Y-o8h-Xq-b"
      },
      "execution_count": null,
      "outputs": []
    }
  ],
  "metadata": {
    "colab": {
      "provenance": []
    },
    "kernelspec": {
      "display_name": "Python 3",
      "name": "python3"
    },
    "language_info": {
      "name": "python"
    }
  },
  "nbformat": 4,
  "nbformat_minor": 0
}